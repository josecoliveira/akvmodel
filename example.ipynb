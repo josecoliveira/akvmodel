{
 "cells": [
  {
   "cell_type": "code",
   "execution_count": 1,
   "metadata": {},
   "outputs": [],
   "source": [
    "%load_ext autoreload\n",
    "%autoreload 2\n",
    "\n",
    "import numpy as np\n",
    "import matplotlib.pyplot as plt\n",
    "\n",
    "from akvmodel import *"
   ]
  },
  {
   "cell_type": "markdown",
   "metadata": {},
   "source": [
    "# AKV Model - Example\n",
    "\n",
    "Let an AKV model have $100$ agents, a time frame of $100$ steps, and for the computation of the Esteban-Ray measure, we use $201$ discretization bins, setting parameters to $K = 100$ and $\\alpha = 1.6$. The initial configuration is mildly polarized, with a faintly connected influence graph, using confirmation bias update function."
   ]
  },
  {
   "cell_type": "markdown",
   "metadata": {},
   "source": [
    "## Constants"
   ]
  },
  {
   "cell_type": "code",
   "execution_count": 2,
   "metadata": {},
   "outputs": [],
   "source": [
    "NUM_AGENTS = 100\n",
    "STRONG_INFLUENCE = 0.5\n",
    "WEAK_INFLUENCE = 0.1\n",
    "NUM_STEPS = 100"
   ]
  },
  {
   "cell_type": "markdown",
   "metadata": {},
   "source": [
    "## Model instance"
   ]
  },
  {
   "cell_type": "code",
   "execution_count": 3,
   "metadata": {},
   "outputs": [],
   "source": [
    "akvmodel = AKV(\n",
    "    belief_state=InitialConfigurations.mildly(NUM_AGENTS),\n",
    "    influence_graph=InfluenceGraphs.faintly(\n",
    "        NUM_AGENTS, STRONG_INFLUENCE, WEAK_INFLUENCE\n",
    "    ),\n",
    "    update_function=UpdateFunctions.confirmation_bias,\n",
    ")"
   ]
  },
  {
   "cell_type": "markdown",
   "metadata": {},
   "source": [
    "## Simulation"
   ]
  },
  {
   "cell_type": "code",
   "execution_count": 4,
   "metadata": {},
   "outputs": [],
   "source": [
    "for _ in range(NUM_STEPS):\n",
    "    akvmodel.update()"
   ]
  },
  {
   "cell_type": "code",
   "execution_count": 6,
   "metadata": {},
   "outputs": [
    {
     "ename": "TypeError",
     "evalue": "'int' object is not iterable",
     "output_type": "error",
     "traceback": [
      "\u001b[1;31m---------------------------------------------------------------------------\u001b[0m",
      "\u001b[1;31mTypeError\u001b[0m                                 Traceback (most recent call last)",
      "Cell \u001b[1;32mIn[6], line 1\u001b[0m\n\u001b[1;32m----> 1\u001b[0m p \u001b[38;5;241m=\u001b[39m \u001b[43makvmodel\u001b[49m\u001b[38;5;241;43m.\u001b[39;49m\u001b[43mget_polarization\u001b[49m\u001b[43m(\u001b[49m\u001b[43m)\u001b[49m\n\u001b[0;32m      2\u001b[0m p\n",
      "File \u001b[1;32mc:\\Users\\josec\\projects\\akvmodel\\akvmodel.py:157\u001b[0m, in \u001b[0;36mAKV.get_polarization\u001b[1;34m(self, k, K, alpha)\u001b[0m\n\u001b[0;32m    146\u001b[0m     \u001b[38;5;28;01mreturn\u001b[39;00m K \u001b[38;5;241m*\u001b[39m np\u001b[38;5;241m.\u001b[39msum(\n\u001b[0;32m    147\u001b[0m         \u001b[38;5;66;03m# np.sum(np.power(pi[i], 1 + alpha) * pi[j] * np.abs(diff[i]) for j in range(k))\u001b[39;00m\n\u001b[0;32m    148\u001b[0m         np\u001b[38;5;241m.\u001b[39msum(np\u001b[38;5;241m.\u001b[39mpower(pi[i], \u001b[38;5;241m1\u001b[39m \u001b[38;5;241m+\u001b[39m alpha) \u001b[38;5;241m*\u001b[39m pi[j] \u001b[38;5;241m*\u001b[39m np\u001b[38;5;241m.\u001b[39mabs(y[i] \u001b[38;5;241m-\u001b[39m y[j]) \u001b[38;5;28;01mfor\u001b[39;00m j \u001b[38;5;129;01min\u001b[39;00m \u001b[38;5;28mrange\u001b[39m(k))\n\u001b[0;32m    149\u001b[0m         \u001b[38;5;66;03m# for i in range(k) if pi[i] != 0\u001b[39;00m\n\u001b[0;32m    150\u001b[0m         \u001b[38;5;28;01mfor\u001b[39;00m i \u001b[38;5;129;01min\u001b[39;00m \u001b[38;5;28mrange\u001b[39m(k)\n\u001b[0;32m    151\u001b[0m     )\n\u001b[0;32m    153\u001b[0m \u001b[38;5;66;03m# return [\u001b[39;00m\n\u001b[0;32m    154\u001b[0m \u001b[38;5;66;03m#     [[polarization(belief_array)] for belief_array in state]\u001b[39;00m\n\u001b[0;32m    155\u001b[0m \u001b[38;5;66;03m#     for state in self.states\u001b[39;00m\n\u001b[0;32m    156\u001b[0m \u001b[38;5;66;03m# ]\u001b[39;00m\n\u001b[1;32m--> 157\u001b[0m \u001b[38;5;28;01mreturn\u001b[39;00m \u001b[43m[\u001b[49m\n\u001b[0;32m    158\u001b[0m \u001b[43m    \u001b[49m\u001b[43m[\u001b[49m\u001b[43m[\u001b[49m\u001b[43mpolarization\u001b[49m\u001b[43m(\u001b[49m\u001b[43mbelief_state\u001b[49m\u001b[43m[\u001b[49m\u001b[43mi\u001b[49m\u001b[43m]\u001b[49m\u001b[43m)\u001b[49m\u001b[43m]\u001b[49m\u001b[43m \u001b[49m\u001b[38;5;28;43;01mfor\u001b[39;49;00m\u001b[43m \u001b[49m\u001b[43mbelief_state\u001b[49m\u001b[43m \u001b[49m\u001b[38;5;129;43;01min\u001b[39;49;00m\u001b[43m \u001b[49m\u001b[38;5;28;43mself\u001b[39;49m\u001b[38;5;241;43m.\u001b[39;49m\u001b[43mstates\u001b[49m\u001b[43m]\u001b[49m\n\u001b[0;32m    159\u001b[0m \u001b[43m    \u001b[49m\u001b[38;5;28;43;01mfor\u001b[39;49;00m\u001b[43m \u001b[49m\u001b[43mi\u001b[49m\u001b[43m \u001b[49m\u001b[38;5;129;43;01min\u001b[39;49;00m\u001b[43m \u001b[49m\u001b[38;5;28;43mlen\u001b[39;49m\u001b[43m(\u001b[49m\u001b[38;5;28;43mrange\u001b[39;49m\u001b[43m(\u001b[49m\u001b[38;5;28;43mself\u001b[39;49m\u001b[38;5;241;43m.\u001b[39;49m\u001b[43mk\u001b[49m\u001b[43m)\u001b[49m\u001b[43m)\u001b[49m\n\u001b[0;32m    160\u001b[0m \u001b[43m\u001b[49m\u001b[43m]\u001b[49m\n",
      "\u001b[1;31mTypeError\u001b[0m: 'int' object is not iterable"
     ]
    }
   ],
   "source": [
    "p = akvmodel.get_polarization()\n",
    "p"
   ]
  },
  {
   "cell_type": "code",
   "execution_count": null,
   "metadata": {},
   "outputs": [
    {
     "data": {
      "text/plain": [
       "array([[0.2  , 0.204, 0.208, 0.212, 0.216, 0.22 , 0.224, 0.228, 0.232,\n",
       "        0.236, 0.24 , 0.244, 0.248, 0.252, 0.256, 0.26 , 0.264, 0.268,\n",
       "        0.272, 0.276, 0.28 , 0.284, 0.288, 0.292, 0.296, 0.3  , 0.304,\n",
       "        0.308, 0.312, 0.316, 0.32 , 0.324, 0.328, 0.332, 0.336, 0.34 ,\n",
       "        0.344, 0.348, 0.352, 0.356, 0.36 , 0.364, 0.368, 0.372, 0.376,\n",
       "        0.38 , 0.384, 0.388, 0.392, 0.396, 0.6  , 0.604, 0.608, 0.612,\n",
       "        0.616, 0.62 , 0.624, 0.628, 0.632, 0.636, 0.64 , 0.644, 0.648,\n",
       "        0.652, 0.656, 0.66 , 0.664, 0.668, 0.672, 0.676, 0.68 , 0.684,\n",
       "        0.688, 0.692, 0.696, 0.7  , 0.704, 0.708, 0.712, 0.716, 0.72 ,\n",
       "        0.724, 0.728, 0.732, 0.736, 0.74 , 0.744, 0.748, 0.752, 0.756,\n",
       "        0.76 , 0.764, 0.768, 0.772, 0.776, 0.78 , 0.784, 0.788, 0.792,\n",
       "        0.796],\n",
       "       [0.8  , 0.796, 0.792, 0.788, 0.784, 0.78 , 0.776, 0.772, 0.768,\n",
       "        0.764, 0.76 , 0.756, 0.752, 0.748, 0.744, 0.74 , 0.736, 0.732,\n",
       "        0.728, 0.724, 0.72 , 0.716, 0.712, 0.708, 0.704, 0.7  , 0.696,\n",
       "        0.692, 0.688, 0.684, 0.68 , 0.676, 0.672, 0.668, 0.664, 0.66 ,\n",
       "        0.656, 0.652, 0.648, 0.644, 0.64 , 0.636, 0.632, 0.628, 0.624,\n",
       "        0.62 , 0.616, 0.612, 0.608, 0.604, 0.4  , 0.396, 0.392, 0.388,\n",
       "        0.384, 0.38 , 0.376, 0.372, 0.368, 0.364, 0.36 , 0.356, 0.352,\n",
       "        0.348, 0.344, 0.34 , 0.336, 0.332, 0.328, 0.324, 0.32 , 0.316,\n",
       "        0.312, 0.308, 0.304, 0.3  , 0.296, 0.292, 0.288, 0.284, 0.28 ,\n",
       "        0.276, 0.272, 0.268, 0.264, 0.26 , 0.256, 0.252, 0.248, 0.244,\n",
       "        0.24 , 0.236, 0.232, 0.228, 0.224, 0.22 , 0.216, 0.212, 0.208,\n",
       "        0.204]])"
      ]
     },
     "execution_count": 12,
     "metadata": {},
     "output_type": "execute_result"
    }
   ],
   "source": [
    "akvmodel.states[0]"
   ]
  },
  {
   "cell_type": "code",
   "execution_count": null,
   "metadata": {},
   "outputs": [],
   "source": []
  }
 ],
 "metadata": {
  "kernelspec": {
   "display_name": "Python 3",
   "language": "python",
   "name": "python3"
  },
  "language_info": {
   "codemirror_mode": {
    "name": "ipython",
    "version": 3
   },
   "file_extension": ".py",
   "mimetype": "text/x-python",
   "name": "python",
   "nbconvert_exporter": "python",
   "pygments_lexer": "ipython3",
   "version": "3.11.8"
  }
 },
 "nbformat": 4,
 "nbformat_minor": 2
}
